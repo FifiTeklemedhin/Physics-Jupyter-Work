{
  "nbformat": 4,
  "nbformat_minor": 0,
  "metadata": {
    "colab": {
      "name": "particle hunting.ipynb",
      "provenance": [],
      "collapsed_sections": []
    },
    "kernelspec": {
      "name": "python3",
      "display_name": "Python 3"
    }
  },
  "cells": [
    {
      "cell_type": "code",
      "metadata": {
        "id": "VekJ604Rv-oJ"
      },
      "source": [
        "import pandas as pd\n",
        "import numpy as np\n",
        "import random\n",
        "from math import cos,sin,pi,floor,ceil\n",
        "import matplotlib as mpl\n",
        "import matplotlib.pyplot as plt"
      ],
      "execution_count": 4,
      "outputs": []
    },
    {
      "cell_type": "markdown",
      "metadata": {
        "id": "4T_Vu81gwCQO"
      },
      "source": [
        "So, its time to make histograms in Jupyter.  If you haven't already, you should have made some in excel."
      ]
    },
    {
      "cell_type": "code",
      "metadata": {
        "id": "_T7MZaMiA2mL"
      },
      "source": [
        "data = pd.read_csv('https://raw.githubusercontent.com/fearlab/Datasets/master/2MuonMassData.csv')"
      ],
      "execution_count": 5,
      "outputs": []
    },
    {
      "cell_type": "code",
      "metadata": {
        "colab": {
          "base_uri": "https://localhost:8080/",
          "height": 0
        },
        "id": "LqOijKRLBF3v",
        "outputId": "f0d3597a-c0f9-4960-c7ec-ea5f2f638da1"
      },
      "source": [
        "data.head"
      ],
      "execution_count": 6,
      "outputs": [
        {
          "output_type": "execute_result",
          "data": {
            "text/plain": [
              "<bound method NDFrame.head of            Mass\n",
              "0       2.73205\n",
              "1       3.10256\n",
              "2       9.41149\n",
              "3       7.74702\n",
              "4       8.67727\n",
              "...         ...\n",
              "99995   6.61359\n",
              "99996   9.37972\n",
              "99997  22.78810\n",
              "99998  12.85460\n",
              "99999   2.79810\n",
              "\n",
              "[100000 rows x 1 columns]>"
            ]
          },
          "metadata": {
            "tags": []
          },
          "execution_count": 6
        }
      ]
    },
    {
      "cell_type": "code",
      "metadata": {
        "colab": {
          "base_uri": "https://localhost:8080/",
          "height": 401
        },
        "id": "Pp45GnAZ7F7u",
        "outputId": "777f7498-4277-4e96-c46d-ed97ff33ebf5"
      },
      "source": [
        "plt.hist(data['Mass'], 15)\n",
        "#plt.hist(data['Mass'], , range=[3000, 5000])"
      ],
      "execution_count": 13,
      "outputs": [
        {
          "output_type": "execute_result",
          "data": {
            "text/plain": [
              "(array([5.6497e+04, 2.7304e+04, 9.9900e+03, 3.3980e+03, 1.1700e+03,\n",
              "        5.1000e+02, 2.6900e+02, 1.3900e+02, 1.0000e+02, 9.8000e+01,\n",
              "        8.4000e+01, 1.0100e+02, 2.5400e+02, 5.2000e+01, 3.4000e+01]),\n",
              " array([  2.00003   ,   9.19849467,  16.39695933,  23.595424  ,\n",
              "         30.79388867,  37.99235333,  45.190818  ,  52.38928267,\n",
              "         59.58774733,  66.786212  ,  73.98467667,  81.18314133,\n",
              "         88.381606  ,  95.58007067, 102.77853533, 109.977     ]),\n",
              " <a list of 15 Patch objects>)"
            ]
          },
          "metadata": {
            "tags": []
          },
          "execution_count": 13
        },
        {
          "output_type": "display_data",
          "data": {
            "image/png": "[encoded data removed]",
            "text/plain": [
              "<Figure size 432x288 with 1 Axes>"
            ]
          },
          "metadata": {
            "tags": [],
            "needs_background": "light"
          }
        }
      ]
    },
    {
      "cell_type": "code",
      "metadata": {
        "colab": {
          "base_uri": "https://localhost:8080/",
          "height": 164
        },
        "id": "xIHKmtoYGHG1",
        "outputId": "7b0563e9-ac64-40b4-c8ca-cba00a7737d3"
      },
      "source": [
        ""
      ],
      "execution_count": 2,
      "outputs": [
        {
          "output_type": "error",
          "ename": "NameError",
          "evalue": "ignored",
          "traceback": [
            "\u001b[0;31m---------------------------------------------------------------------------\u001b[0m",
            "\u001b[0;31mNameError\u001b[0m                                 Traceback (most recent call last)",
            "\u001b[0;32m<ipython-input-2-82a62eadeb1f>\u001b[0m in \u001b[0;36m<module>\u001b[0;34m()\u001b[0m\n\u001b[0;32m----> 1\u001b[0;31m \u001b[0mplt\u001b[0m\u001b[0;34m.\u001b[0m\u001b[0mhist\u001b[0m\u001b[0;34m(\u001b[0m\u001b[0mdata\u001b[0m\u001b[0;34m[\u001b[0m\u001b[0;34m'Mass'\u001b[0m\u001b[0;34m]\u001b[0m\u001b[0;34m,\u001b[0m \u001b[0;36m15\u001b[0m\u001b[0;34m,\u001b[0m \u001b[0mrange\u001b[0m\u001b[0;34m=\u001b[0m\u001b[0;34m[\u001b[0m\u001b[0;36m30000\u001b[0m\u001b[0;34m,\u001b[0m \u001b[0;36m40000\u001b[0m\u001b[0;34m]\u001b[0m\u001b[0;34m)\u001b[0m\u001b[0;34m\u001b[0m\u001b[0;34m\u001b[0m\u001b[0m\n\u001b[0m",
            "\u001b[0;31mNameError\u001b[0m: name 'plt' is not defined"
          ]
        }
      ]
    },
    {
      "cell_type": "markdown",
      "metadata": {
        "id": "7s2WbnPlr7O-"
      },
      "source": [
        "**Where did you find bumps?**: \n",
        "> 50,000 - a little over 10,000\n",
        "\n",
        "**Look up the value in google and tell me which particle you discovered?**\n",
        "\n",
        "> Preon? Not sure if I did this correctly but that is what comes up the most with 50,000. \n",
        "\n",
        "**Who discovered it and when?**\n",
        "> Haim Harari and Michael A. Shupe in 1979."
      ]
    }
  ]
}